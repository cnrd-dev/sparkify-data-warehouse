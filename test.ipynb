{
 "cells": [
  {
   "cell_type": "markdown",
   "metadata": {},
   "source": [
    "# Verify data loads for analytics"
   ]
  },
  {
   "cell_type": "code",
   "execution_count": 1,
   "metadata": {},
   "outputs": [],
   "source": [
    "# import libraries\n",
    "import configparser\n",
    "import psycopg2"
   ]
  },
  {
   "cell_type": "code",
   "execution_count": 2,
   "metadata": {},
   "outputs": [
    {
     "data": {
      "text/plain": [
       "['dwh.cfg']"
      ]
     },
     "execution_count": 2,
     "metadata": {},
     "output_type": "execute_result"
    }
   ],
   "source": [
    "# load Redshift config\n",
    "config = configparser.ConfigParser()\n",
    "config.read(\"dwh.cfg\")"
   ]
  },
  {
   "cell_type": "code",
   "execution_count": 3,
   "metadata": {},
   "outputs": [],
   "source": [
    "# establish connection to Redshift\n",
    "conn = psycopg2.connect(\"host={} dbname={} user={} password={} port={}\".format(*config[\"CLUSTER\"].values()))\n",
    "cur = conn.cursor()"
   ]
  },
  {
   "cell_type": "markdown",
   "metadata": {},
   "source": [
    "## Count number of rows per table"
   ]
  },
  {
   "cell_type": "code",
   "execution_count": 4,
   "metadata": {},
   "outputs": [],
   "source": [
    "# list of tables to test\n",
    "tables = ['songplays', 'users', 'songs', 'artists', 'time']"
   ]
  },
  {
   "cell_type": "code",
   "execution_count": 5,
   "metadata": {},
   "outputs": [
    {
     "name": "stdout",
     "output_type": "stream",
     "text": [
      "songplays = [(320,)]\n",
      "users = [(104,)]\n",
      "songs = [(14896,)]\n",
      "artists = [(10025,)]\n",
      "time = [(320,)]\n"
     ]
    }
   ],
   "source": [
    "# count number of rows per table\n",
    "for table in tables:\n",
    "    cur.execute(f\"SELECT count(*) FROM {table}\")\n",
    "    print(f\"{table} = {cur.fetchall()}\")"
   ]
  },
  {
   "cell_type": "markdown",
   "metadata": {},
   "source": [
    "## Display top 3 records per table"
   ]
  },
  {
   "cell_type": "code",
   "execution_count": 6,
   "metadata": {},
   "outputs": [
    {
     "data": {
      "text/plain": [
       "[(11,\n",
       "  datetime.datetime(2018, 11, 30, 10, 42, 9, 796000),\n",
       "  36,\n",
       "  'paid',\n",
       "  'SOTNHIP12AB0183131',\n",
       "  'ARD46C811C8A414F3F',\n",
       "  '998',\n",
       "  'Janesville-Beloit, WI',\n",
       "  '\"Mozilla/5.0 (Windows NT 5.1) AppleWebKit/537.36 (KHTML, like Gecko) Chrome/36.0.1985.143 Safari/537.36\"'),\n",
       " (75,\n",
       "  datetime.datetime(2018, 11, 27, 18, 22, 58, 796000),\n",
       "  36,\n",
       "  'paid',\n",
       "  'SODFRAX12A8C13274B',\n",
       "  'ARP29T31187B98DD5F',\n",
       "  '957',\n",
       "  'Janesville-Beloit, WI',\n",
       "  '\"Mozilla/5.0 (Windows NT 5.1) AppleWebKit/537.36 (KHTML, like Gecko) Chrome/36.0.1985.143 Safari/537.36\"'),\n",
       " (139,\n",
       "  datetime.datetime(2018, 11, 22, 13, 21, 20, 796000),\n",
       "  101,\n",
       "  'free',\n",
       "  'SOUHTWB12A8C13BA4D',\n",
       "  'AR96LYR1187B9ABABD',\n",
       "  '790',\n",
       "  'New Orleans-Metairie, LA',\n",
       "  '\"Mozilla/5.0 (Windows NT 6.3; WOW64) AppleWebKit/537.36 (KHTML, like Gecko) Chrome/36.0.1985.143 Safari/537.36\"')]"
      ]
     },
     "execution_count": 6,
     "metadata": {},
     "output_type": "execute_result"
    }
   ],
   "source": [
    "cur.execute(\"SELECT * FROM songplays LIMIT 3;\")\n",
    "cur.fetchall()"
   ]
  },
  {
   "cell_type": "code",
   "execution_count": 7,
   "metadata": {},
   "outputs": [
    {
     "data": {
      "text/plain": [
       "[(50, 'Ava', 'Robinson', 'F', 'free'),\n",
       " (44, 'Aleena', 'Kirby', 'F', 'paid'),\n",
       " (52, 'Theodore', 'Smith', 'M', 'free')]"
      ]
     },
     "execution_count": 7,
     "metadata": {},
     "output_type": "execute_result"
    }
   ],
   "source": [
    "cur.execute(\"SELECT * FROM users LIMIT 3;\")\n",
    "cur.fetchall()"
   ]
  },
  {
   "cell_type": "code",
   "execution_count": 8,
   "metadata": {},
   "outputs": [
    {
     "data": {
      "text/plain": [
       "[('SOFXNQP12AB0184F1A', 'Hate', 'AR9ODB41187FB459B2', 1997, Decimal('198')),\n",
       " ('SOCLAYI12A6310F138',\n",
       "  'Slave To The Wage',\n",
       "  'AR6892W1187B9AC71B',\n",
       "  2000,\n",
       "  Decimal('246')),\n",
       " ('SOULCEZ12AB0187E3C',\n",
       "  'Chanson Réaliste',\n",
       "  'ARQPSAB1269FCD243F',\n",
       "  0,\n",
       "  Decimal('194'))]"
      ]
     },
     "execution_count": 8,
     "metadata": {},
     "output_type": "execute_result"
    }
   ],
   "source": [
    "cur.execute(\"SELECT * FROM songs LIMIT 3;\")\n",
    "cur.fetchall()"
   ]
  },
  {
   "cell_type": "code",
   "execution_count": 9,
   "metadata": {},
   "outputs": [
    {
     "data": {
      "text/plain": [
       "[('ARXYZPO1187B98EF4E', 'Magic Affair', '', None, None),\n",
       " ('ARCIDMF11E2835DBF2', 'Torsten Goods', 'GERMANY', None, None),\n",
       " ('AR6F1M81187B99FAE4', 'Guilty connector', '', None, None)]"
      ]
     },
     "execution_count": 9,
     "metadata": {},
     "output_type": "execute_result"
    }
   ],
   "source": [
    "cur.execute(\"SELECT * FROM artists LIMIT 3;\")\n",
    "cur.fetchall()"
   ]
  },
  {
   "cell_type": "code",
   "execution_count": 10,
   "metadata": {},
   "outputs": [
    {
     "data": {
      "text/plain": [
       "[(datetime.datetime(2018, 11, 30, 7, 47, 5, 796000), 7, 30, 48, 11, 2018, 5),\n",
       " (datetime.datetime(2018, 11, 8, 7, 41, 8, 796000), 7, 8, 45, 11, 2018, 4),\n",
       " (datetime.datetime(2018, 11, 21, 12, 10, 49, 796000),\n",
       "  12,\n",
       "  21,\n",
       "  47,\n",
       "  11,\n",
       "  2018,\n",
       "  3)]"
      ]
     },
     "execution_count": 10,
     "metadata": {},
     "output_type": "execute_result"
    }
   ],
   "source": [
    "cur.execute(\"SELECT * FROM time LIMIT 3;\")\n",
    "cur.fetchall()"
   ]
  },
  {
   "cell_type": "code",
   "execution_count": 11,
   "metadata": {},
   "outputs": [],
   "source": [
    "# close connection\n",
    "conn.close()"
   ]
  }
 ],
 "metadata": {
  "kernelspec": {
   "display_name": "Python 3",
   "language": "python",
   "name": "python3"
  },
  "language_info": {
   "codemirror_mode": {
    "name": "ipython",
    "version": 3
   },
   "file_extension": ".py",
   "mimetype": "text/x-python",
   "name": "python",
   "nbconvert_exporter": "python",
   "pygments_lexer": "ipython3",
   "version": "3.8.10"
  }
 },
 "nbformat": 4,
 "nbformat_minor": 2
}
